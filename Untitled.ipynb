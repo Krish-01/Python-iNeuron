{
 "cells": [
  {
   "cell_type": "code",
   "execution_count": null,
   "metadata": {},
   "outputs": [],
   "source": [
    "import sqlite3\n",
    "\n",
    "class DataBaseOperations:\n",
    "\n",
    "    def __init__(self,databasename):\n",
    "        \n",
    "        self.databasename = databasename\n",
    "\n",
    "    def createDatabase(self):\n",
    "        try:\n",
    "            conn = sqlite3.connect(self.databasename)\n",
    "        except ConnectionError:\n",
    "            raise ConnectionError\n",
    "        return conn\n",
    "\n",
    "    def createTable(self,tablename,dictionaryOfcolumnNamesAndcolumnDatatypes):\n",
    "        try:\n",
    "            conn = self.createDatabase()\n",
    "            c = conn.cursor()\n",
    "            for key in dictionaryOfcolumnNamesAndcolumnDatatypes.keys():\n",
    "                datatype = dictionaryOfcolumnNamesAndcolumnDatatypes[key]\n",
    "                try:\n",
    "                    conn.execute(\n",
    "                        'ALTER TABLE {tableName} ADD COLUMN \"{column_name}\" {dataType}'.format(tableName=tablename,\n",
    "                                                                                               column_name=key,\n",
    "                                                                                               dataType=datatype))\n",
    "                except:\n",
    "                    conn.execute('CREATE TABLE {tableName} ({column_name} {dataType})'.format(tableName=tablename,\n",
    "                                                                                              column_name=key,\n",
    "                                                                                              dataType=datatype))\n",
    "            print(\"Table {0} created in database {1}\".format(tablename,self.databasename))\n",
    "            self.closeDbConnection(conn)\n",
    "            print(\"Connection to database closed!!\")\n",
    "        except Exception as e:\n",
    "            conn.rollback()\n",
    "            self.closeDbConnection(conn)\n",
    "            print(\"Connection to database closed!!\")\n",
    "\n",
    "            print(\"Exception occured: \" + str(e))\n",
    "\n",
    "    def insertIntoTable(self,tablename, listOfvaluesToInsert):\n",
    "        try:\n",
    "            conn = self.createDatabase()\n",
    "            conn.execute('INSERT INTO {tablename}  values ({values})'.format(tablename = tablename,values=(listOfvaluesToInsert)))\n",
    "            conn.commit()\n",
    "            print(\"Values Inserted Successfully!!!\")\n",
    "            self.closeDbConnection(conn)\n",
    "            print(\"Connection to database closed!!\")\n",
    "        except Exception as e:\n",
    "            conn.rollback()\n",
    "            self.closeDbConnection(conn)\n",
    "            print(\"Connection to database closed!!\")\n",
    "            print(\"Error occured: \" + str(e))\n",
    "\n",
    "        # self.closeDbconnection()\n",
    "    \n",
    "    def selectFromTable(self,tablename):\n",
    "\n",
    "        try:\n",
    "            conn = self.createDatabase()\n",
    "            c = conn.cursor()\n",
    "            c.execute(\"SELECT *  FROM {table}\".format(table=tablename))\n",
    "            print(\"values in table : \" ,c.fetchall())\n",
    "            self.closeDbConnection(conn)\n",
    "            print(\"Connection to database closed!!\")\n",
    "            \n",
    "        except Exception as e:\n",
    "            self.closeDbConnection(conn)\n",
    "            print(\"Connection to database closed!!\")\n",
    "            print(\"Error occured: \" + str(e))\n",
    "    \n",
    "    def closeDbConnection(self,connection):\n",
    "       \n",
    "        connection.close()"
   ]
  },
  {
   "cell_type": "code",
   "execution_count": null,
   "metadata": {},
   "outputs": [],
   "source": [
    "class StudentMarks(DataBaseOperations): # inheriting the DatabaseOperation class\n",
    "    \n",
    "    def __init__ (self, ID, RollNumber, Marks):\n",
    "        \n",
    "        self.id= ID\n",
    "        self.RollNum = RollNumber\n",
    "        self.Marks = Marks\n",
    "        self.databasename = \"StudentDetails\""
   ]
  },
  {
   "cell_type": "code",
   "execution_count": null,
   "metadata": {},
   "outputs": [],
   "source": [
    "student1 = StudentMarks(23,34,76)"
   ]
  },
  {
   "cell_type": "code",
   "execution_count": null,
   "metadata": {},
   "outputs": [],
   "source": [
    "student1.createDatabase()"
   ]
  }
 ],
 "metadata": {
  "kernelspec": {
   "display_name": "Python 3",
   "language": "python",
   "name": "python3"
  },
  "language_info": {
   "codemirror_mode": {
    "name": "ipython",
    "version": 3
   },
   "file_extension": ".py",
   "mimetype": "text/x-python",
   "name": "python",
   "nbconvert_exporter": "python",
   "pygments_lexer": "ipython3",
   "version": "3.8.5"
  }
 },
 "nbformat": 4,
 "nbformat_minor": 4
}
